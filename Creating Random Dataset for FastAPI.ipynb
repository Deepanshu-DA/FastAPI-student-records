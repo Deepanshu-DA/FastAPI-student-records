{
 "cells": [
  {
   "cell_type": "code",
   "execution_count": 15,
   "id": "05abfefb",
   "metadata": {},
   "outputs": [],
   "source": [
    "import pandas as pd\n",
    "import numpy as np\n",
    "from faker import Faker"
   ]
  },
  {
   "cell_type": "code",
   "execution_count": 16,
   "id": "7a4356ce",
   "metadata": {},
   "outputs": [],
   "source": [
    "fake = Faker()\n",
    "random_data = [(fake.name(), fake.random_element(['Male', 'Female'])) for _ in range(5000)]"
   ]
  },
  {
   "cell_type": "code",
   "execution_count": 17,
   "id": "f0bbe5a7",
   "metadata": {},
   "outputs": [],
   "source": [
    "df = pd.DataFrame(random_data, columns=['Name', 'Gender'])"
   ]
  },
  {
   "cell_type": "code",
   "execution_count": 18,
   "id": "76c9cbb5",
   "metadata": {},
   "outputs": [],
   "source": [
    "df.insert(0, column = 'Student ID', value = (np.arange(1,5001,1)))"
   ]
  },
  {
   "cell_type": "code",
   "execution_count": 19,
   "id": "c6141d70",
   "metadata": {},
   "outputs": [],
   "source": [
    "courses = ['Data Science', 'Data Engineer', 'Data Analyst']\n",
    "df.insert(2,column = 'Course', value = np.random.choice(courses, size=len(df)))"
   ]
  },
  {
   "cell_type": "code",
   "execution_count": 20,
   "id": "4fbdcfc0",
   "metadata": {},
   "outputs": [
    {
     "data": {
      "text/plain": [
       "array(['Data Analyst', 'Data Engineer', 'Data Science'], dtype=object)"
      ]
     },
     "execution_count": 20,
     "metadata": {},
     "output_type": "execute_result"
    }
   ],
   "source": [
    "df['Course'].unique()"
   ]
  },
  {
   "cell_type": "code",
   "execution_count": 21,
   "id": "c6404131",
   "metadata": {},
   "outputs": [],
   "source": [
    "df['Age'] = np.random.randint(20,40,5000)"
   ]
  },
  {
   "cell_type": "code",
   "execution_count": 22,
   "id": "491c84fc",
   "metadata": {},
   "outputs": [],
   "source": [
    "df['Duration']=''\n",
    "for i, course in enumerate(df['Course']):\n",
    "    if course == 'Data Science':\n",
    "        df.loc[i, 'Duration'] = '12 Months'\n",
    "    elif course == 'Data Engineer':\n",
    "        df.loc[i, 'Duration'] = '9 Months'\n",
    "    elif course == 'Data Analyst':\n",
    "        df.loc[i, 'Duration'] = '3 Months'"
   ]
  },
  {
   "cell_type": "code",
   "execution_count": 23,
   "id": "dfd764a7",
   "metadata": {},
   "outputs": [],
   "source": [
    "df['Fees'] = ''\n",
    "for i, course in enumerate(df['Course']):\n",
    "    if course == 'Data Science':\n",
    "        df.loc[i, 'Fees'] = 'Rs 40000'\n",
    "    elif course == 'Data Engineer':\n",
    "        df.loc[i, 'Fees'] = 'Rs 35000'\n",
    "    elif course == 'Data Analyst':\n",
    "        df.loc[i, 'Fees'] = 'Rs 30000'"
   ]
  },
  {
   "cell_type": "code",
   "execution_count": 24,
   "id": "f546f9c1",
   "metadata": {},
   "outputs": [],
   "source": [
    "payment = ['EMI','Full Paid']\n",
    "\n",
    "df.insert(6,column = 'Payment Mode', value = np.random.choice(payment, size=len(df)))"
   ]
  },
  {
   "cell_type": "code",
   "execution_count": 25,
   "id": "ef952c36",
   "metadata": {},
   "outputs": [],
   "source": [
    "emi = [5000,10000,15000,20000,'Paid']\n",
    "\n",
    "df['Amount Paid or Remaining'] = ''\n",
    "for i, payment in enumerate(df['Payment Mode']):\n",
    "    if payment == 'EMI':\n",
    "        df.loc[i, 'Amount Paid or Remaining'] = np.random.choice(emi)\n",
    "    else:\n",
    "        df.loc[i, 'Amount Paid or Remaining'] = 'Paid'\n",
    "        \n"
   ]
  },
  {
   "cell_type": "code",
   "execution_count": 26,
   "id": "c67abcd5",
   "metadata": {},
   "outputs": [
    {
     "data": {
      "text/html": [
       "<div>\n",
       "<style scoped>\n",
       "    .dataframe tbody tr th:only-of-type {\n",
       "        vertical-align: middle;\n",
       "    }\n",
       "\n",
       "    .dataframe tbody tr th {\n",
       "        vertical-align: top;\n",
       "    }\n",
       "\n",
       "    .dataframe thead th {\n",
       "        text-align: right;\n",
       "    }\n",
       "</style>\n",
       "<table border=\"1\" class=\"dataframe\">\n",
       "  <thead>\n",
       "    <tr style=\"text-align: right;\">\n",
       "      <th></th>\n",
       "      <th>Student ID</th>\n",
       "      <th>Name</th>\n",
       "      <th>Course</th>\n",
       "      <th>Gender</th>\n",
       "      <th>Age</th>\n",
       "      <th>Duration</th>\n",
       "      <th>Payment Mode</th>\n",
       "      <th>Fees</th>\n",
       "      <th>Amount Paid or Remaining</th>\n",
       "    </tr>\n",
       "  </thead>\n",
       "  <tbody>\n",
       "    <tr>\n",
       "      <th>0</th>\n",
       "      <td>1</td>\n",
       "      <td>Ashley Waters</td>\n",
       "      <td>Data Analyst</td>\n",
       "      <td>Female</td>\n",
       "      <td>27</td>\n",
       "      <td>3 Months</td>\n",
       "      <td>Full Paid</td>\n",
       "      <td>Rs 30000</td>\n",
       "      <td>Paid</td>\n",
       "    </tr>\n",
       "    <tr>\n",
       "      <th>1</th>\n",
       "      <td>2</td>\n",
       "      <td>Betty Hernandez</td>\n",
       "      <td>Data Analyst</td>\n",
       "      <td>Female</td>\n",
       "      <td>20</td>\n",
       "      <td>3 Months</td>\n",
       "      <td>EMI</td>\n",
       "      <td>Rs 30000</td>\n",
       "      <td>Paid</td>\n",
       "    </tr>\n",
       "    <tr>\n",
       "      <th>2</th>\n",
       "      <td>3</td>\n",
       "      <td>Connor Gonzalez</td>\n",
       "      <td>Data Engineer</td>\n",
       "      <td>Female</td>\n",
       "      <td>25</td>\n",
       "      <td>9 Months</td>\n",
       "      <td>EMI</td>\n",
       "      <td>Rs 35000</td>\n",
       "      <td>15000</td>\n",
       "    </tr>\n",
       "    <tr>\n",
       "      <th>3</th>\n",
       "      <td>4</td>\n",
       "      <td>Alison Moore</td>\n",
       "      <td>Data Engineer</td>\n",
       "      <td>Male</td>\n",
       "      <td>20</td>\n",
       "      <td>9 Months</td>\n",
       "      <td>EMI</td>\n",
       "      <td>Rs 35000</td>\n",
       "      <td>Paid</td>\n",
       "    </tr>\n",
       "    <tr>\n",
       "      <th>4</th>\n",
       "      <td>5</td>\n",
       "      <td>Daniel Carter</td>\n",
       "      <td>Data Engineer</td>\n",
       "      <td>Male</td>\n",
       "      <td>29</td>\n",
       "      <td>9 Months</td>\n",
       "      <td>EMI</td>\n",
       "      <td>Rs 35000</td>\n",
       "      <td>Paid</td>\n",
       "    </tr>\n",
       "    <tr>\n",
       "      <th>...</th>\n",
       "      <td>...</td>\n",
       "      <td>...</td>\n",
       "      <td>...</td>\n",
       "      <td>...</td>\n",
       "      <td>...</td>\n",
       "      <td>...</td>\n",
       "      <td>...</td>\n",
       "      <td>...</td>\n",
       "      <td>...</td>\n",
       "    </tr>\n",
       "    <tr>\n",
       "      <th>4995</th>\n",
       "      <td>4996</td>\n",
       "      <td>Amber Perez</td>\n",
       "      <td>Data Analyst</td>\n",
       "      <td>Female</td>\n",
       "      <td>28</td>\n",
       "      <td>3 Months</td>\n",
       "      <td>Full Paid</td>\n",
       "      <td>Rs 30000</td>\n",
       "      <td>Paid</td>\n",
       "    </tr>\n",
       "    <tr>\n",
       "      <th>4996</th>\n",
       "      <td>4997</td>\n",
       "      <td>Dylan Stuart</td>\n",
       "      <td>Data Science</td>\n",
       "      <td>Female</td>\n",
       "      <td>34</td>\n",
       "      <td>12 Months</td>\n",
       "      <td>Full Paid</td>\n",
       "      <td>Rs 40000</td>\n",
       "      <td>Paid</td>\n",
       "    </tr>\n",
       "    <tr>\n",
       "      <th>4997</th>\n",
       "      <td>4998</td>\n",
       "      <td>Carla Miller</td>\n",
       "      <td>Data Engineer</td>\n",
       "      <td>Female</td>\n",
       "      <td>22</td>\n",
       "      <td>9 Months</td>\n",
       "      <td>EMI</td>\n",
       "      <td>Rs 35000</td>\n",
       "      <td>Paid</td>\n",
       "    </tr>\n",
       "    <tr>\n",
       "      <th>4998</th>\n",
       "      <td>4999</td>\n",
       "      <td>Benjamin Atkins</td>\n",
       "      <td>Data Analyst</td>\n",
       "      <td>Female</td>\n",
       "      <td>38</td>\n",
       "      <td>3 Months</td>\n",
       "      <td>Full Paid</td>\n",
       "      <td>Rs 30000</td>\n",
       "      <td>Paid</td>\n",
       "    </tr>\n",
       "    <tr>\n",
       "      <th>4999</th>\n",
       "      <td>5000</td>\n",
       "      <td>Brent Davis</td>\n",
       "      <td>Data Engineer</td>\n",
       "      <td>Female</td>\n",
       "      <td>35</td>\n",
       "      <td>9 Months</td>\n",
       "      <td>EMI</td>\n",
       "      <td>Rs 35000</td>\n",
       "      <td>20000</td>\n",
       "    </tr>\n",
       "  </tbody>\n",
       "</table>\n",
       "<p>5000 rows × 9 columns</p>\n",
       "</div>"
      ],
      "text/plain": [
       "      Student ID             Name         Course  Gender  Age   Duration  \\\n",
       "0              1    Ashley Waters   Data Analyst  Female   27   3 Months   \n",
       "1              2  Betty Hernandez   Data Analyst  Female   20   3 Months   \n",
       "2              3  Connor Gonzalez  Data Engineer  Female   25   9 Months   \n",
       "3              4     Alison Moore  Data Engineer    Male   20   9 Months   \n",
       "4              5    Daniel Carter  Data Engineer    Male   29   9 Months   \n",
       "...          ...              ...            ...     ...  ...        ...   \n",
       "4995        4996      Amber Perez   Data Analyst  Female   28   3 Months   \n",
       "4996        4997     Dylan Stuart   Data Science  Female   34  12 Months   \n",
       "4997        4998     Carla Miller  Data Engineer  Female   22   9 Months   \n",
       "4998        4999  Benjamin Atkins   Data Analyst  Female   38   3 Months   \n",
       "4999        5000      Brent Davis  Data Engineer  Female   35   9 Months   \n",
       "\n",
       "     Payment Mode      Fees Amount Paid or Remaining  \n",
       "0       Full Paid  Rs 30000                     Paid  \n",
       "1             EMI  Rs 30000                     Paid  \n",
       "2             EMI  Rs 35000                    15000  \n",
       "3             EMI  Rs 35000                     Paid  \n",
       "4             EMI  Rs 35000                     Paid  \n",
       "...           ...       ...                      ...  \n",
       "4995    Full Paid  Rs 30000                     Paid  \n",
       "4996    Full Paid  Rs 40000                     Paid  \n",
       "4997          EMI  Rs 35000                     Paid  \n",
       "4998    Full Paid  Rs 30000                     Paid  \n",
       "4999          EMI  Rs 35000                    20000  \n",
       "\n",
       "[5000 rows x 9 columns]"
      ]
     },
     "execution_count": 26,
     "metadata": {},
     "output_type": "execute_result"
    }
   ],
   "source": [
    "df"
   ]
  },
  {
   "cell_type": "code",
   "execution_count": 27,
   "id": "759b2e83",
   "metadata": {},
   "outputs": [],
   "source": [
    "df.to_csv('data/data.csv', index=False)"
   ]
  },
  {
   "cell_type": "code",
   "execution_count": null,
   "id": "0b7ab22e",
   "metadata": {},
   "outputs": [],
   "source": []
  }
 ],
 "metadata": {
  "kernelspec": {
   "display_name": "Python 3 (ipykernel)",
   "language": "python",
   "name": "python3"
  },
  "language_info": {
   "codemirror_mode": {
    "name": "ipython",
    "version": 3
   },
   "file_extension": ".py",
   "mimetype": "text/x-python",
   "name": "python",
   "nbconvert_exporter": "python",
   "pygments_lexer": "ipython3",
   "version": "3.12.1"
  }
 },
 "nbformat": 4,
 "nbformat_minor": 5
}
